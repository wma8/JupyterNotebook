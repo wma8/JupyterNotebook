{
 "cells": [
  {
   "cell_type": "markdown",
   "metadata": {},
   "source": [
    "# Quick Sort Algorithm"
   ]
  },
  {
   "cell_type": "code",
   "execution_count": 2,
   "metadata": {},
   "outputs": [],
   "source": [
    "def swap(array, i, j):\n",
    "    temp  = array[i]\n",
    "    array[i] = array[j]\n",
    "    array[j] = temp"
   ]
  },
  {
   "cell_type": "markdown",
   "metadata": {},
   "source": [
    "Partition the array:\n",
    "    1: find the pivot point\n",
    "    2: start the i, j with (-1, 0)\n",
    "    3: use j to loop through the array\n",
    "        and see if array[j] is less than pivot\n",
    "    4: if so, move i forward && swap array[i] and array[j]\n",
    "    5: move the pivot point to the division position\n",
    "    6: return the new pivot index"
   ]
  },
  {
   "cell_type": "code",
   "execution_count": 3,
   "metadata": {},
   "outputs": [],
   "source": [
    "def partition(array, low, high):\n",
    "    pivot = array[high]\n",
    "    i = low - 1\n",
    "    \n",
    "    for j in range(low, high):\n",
    "        if array[j] < pivot:\n",
    "            i+=1\n",
    "            swap(array, i, j)\n",
    "    swap(array, high, i+1)\n",
    "    return (i+1)"
   ]
  },
  {
   "cell_type": "markdown",
   "metadata": {},
   "source": [
    "Recursively execute the quicksort algorithm and sort the subarray"
   ]
  },
  {
   "cell_type": "code",
   "execution_count": 4,
   "metadata": {},
   "outputs": [],
   "source": [
    "def quicksort(array, low, high):\n",
    "    if array is None or len(array) == 0:\n",
    "        return\n",
    "    if low < high: \n",
    "        pi = partition(array, low, high)\n",
    "        quicksort(array, low, pi - 1)\n",
    "        quicksort(array, pi + 1, high)"
   ]
  },
  {
   "cell_type": "code",
   "execution_count": 5,
   "metadata": {},
   "outputs": [
    {
     "name": "stdout",
     "output_type": "stream",
     "text": [
      "[3, 5, 8, 9, 10, 13, 13, 15, 23, 25, 32]\n"
     ]
    }
   ],
   "source": [
    "array = [5, 3, 9, 13, 25, 32, 8, 10, 23, 15, 13]\n",
    "quicksort(array, 0, len(array)-1)\n",
    "print(array)"
   ]
  },
  {
   "cell_type": "code",
   "execution_count": null,
   "metadata": {},
   "outputs": [],
   "source": []
  }
 ],
 "metadata": {
  "kernelspec": {
   "display_name": "Python 3",
   "language": "python",
   "name": "python3"
  },
  "language_info": {
   "codemirror_mode": {
    "name": "ipython",
    "version": 3
   },
   "file_extension": ".py",
   "mimetype": "text/x-python",
   "name": "python",
   "nbconvert_exporter": "python",
   "pygments_lexer": "ipython3",
   "version": "3.6.7"
  }
 },
 "nbformat": 4,
 "nbformat_minor": 2
}
